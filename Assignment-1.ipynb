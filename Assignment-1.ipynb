{
 "cells": [
  {
   "cell_type": "markdown",
   "id": "27461903",
   "metadata": {},
   "source": [
    "# Assignment # 1"
   ]
  },
  {
   "cell_type": "code",
   "execution_count": 1,
   "id": "ab11df6f",
   "metadata": {},
   "outputs": [],
   "source": [
    "# Q1. Create one variable containing following type of data:\n",
    "# (i) string\n",
    "# (ii) list\n",
    "# (iii) float\n",
    "# (iv) tuple"
   ]
  },
  {
   "cell_type": "code",
   "execution_count": 2,
   "id": "816b3a2c",
   "metadata": {},
   "outputs": [],
   "source": [
    "my_str = \"Data Science Impact Batch\"\n",
    "my_list = [1, 2, 3, \"Python\", 2j, 4.0, True]\n",
    "float_var = 10.0\n",
    "my_tuple = (5, 8, \"Java\", 2.0, 5j)"
   ]
  },
  {
   "cell_type": "code",
   "execution_count": 6,
   "id": "46ea2020",
   "metadata": {},
   "outputs": [],
   "source": [
    "# Q2. Given are some following variables containing data:\n",
    "# (i) var1 = ‘ ‘\n",
    "# (ii) var2 = ‘[ DS , ML , Python]’\n",
    "# (iii) var3 = [ ‘DS’ , ’ML’ , ‘Python’ ]\n",
    "# (iv) var4 = 1.\n",
    "\n",
    "# What will be the data type of the above given variable."
   ]
  },
  {
   "cell_type": "code",
   "execution_count": 7,
   "id": "d3dfcb65",
   "metadata": {},
   "outputs": [
    {
     "name": "stdout",
     "output_type": "stream",
     "text": [
      "<class 'str'>\n",
      "<class 'str'>\n",
      "<class 'list'>\n",
      "<class 'float'>\n"
     ]
    }
   ],
   "source": [
    "var1 = ''   # Data type is string\n",
    "var2 = '[ DS , ML , Python]'    # Data type is string\n",
    "var3 = [ 'DS' , 'ML' , 'Python' ]  # Data type is list\n",
    "var4 = 1.   # Data type is float\n",
    "\n",
    "print(type(var1))\n",
    "print(type(var2))\n",
    "print(type(var3))\n",
    "print(type(var4))"
   ]
  },
  {
   "cell_type": "code",
   "execution_count": 8,
   "id": "3d9e2cdc",
   "metadata": {},
   "outputs": [],
   "source": [
    "# Q3. Explain the use of the following operators using an example:\n",
    "# (i) /\n",
    "# (ii) %\n",
    "# (iii) //\n",
    "# (iv) **"
   ]
  },
  {
   "cell_type": "markdown",
   "id": "f2897567",
   "metadata": {},
   "source": [
    "/ - This is Arithmetic operator used for division in python"
   ]
  },
  {
   "cell_type": "code",
   "execution_count": 9,
   "id": "6d945834",
   "metadata": {},
   "outputs": [
    {
     "name": "stdout",
     "output_type": "stream",
     "text": [
      "Division:  3.5\n"
     ]
    }
   ],
   "source": [
    "a = 7\n",
    "b = 2\n",
    "\n",
    "# division\n",
    "print ('Division: ', a / b) "
   ]
  },
  {
   "cell_type": "markdown",
   "id": "28556da2",
   "metadata": {},
   "source": [
    "% - This is another arithmetic operator in python called modulo used to get the remainder"
   ]
  },
  {
   "cell_type": "code",
   "execution_count": 10,
   "id": "92b04988",
   "metadata": {},
   "outputs": [
    {
     "name": "stdout",
     "output_type": "stream",
     "text": [
      "Modulo:  1\n"
     ]
    }
   ],
   "source": [
    "# modulo\n",
    "print ('Modulo: ', a % b) "
   ]
  },
  {
   "cell_type": "markdown",
   "id": "d0358f90",
   "metadata": {},
   "source": [
    "// - Arithmetic operator in python to floor divide"
   ]
  },
  {
   "cell_type": "code",
   "execution_count": 12,
   "id": "fbae9bed",
   "metadata": {},
   "outputs": [
    {
     "name": "stdout",
     "output_type": "stream",
     "text": [
      "Floor Division:  3\n"
     ]
    }
   ],
   "source": [
    "# floor division\n",
    "print ('Floor Division: ', a // b)"
   ]
  },
  {
   "cell_type": "markdown",
   "id": "deb63ac3",
   "metadata": {},
   "source": [
    "** - Arithmetic operator in python called exponential to get the power "
   ]
  },
  {
   "cell_type": "code",
   "execution_count": 13,
   "id": "4692d6ac",
   "metadata": {},
   "outputs": [
    {
     "name": "stdout",
     "output_type": "stream",
     "text": [
      "Power:  49\n"
     ]
    }
   ],
   "source": [
    "# a to the power b\n",
    "print ('Power: ', a ** b) "
   ]
  },
  {
   "cell_type": "code",
   "execution_count": 14,
   "id": "beb817bb",
   "metadata": {},
   "outputs": [],
   "source": [
    "# Q4. Create a list of length 10 of your choice containing multiple types of data. Using for loop print the element and its data type."
   ]
  },
  {
   "cell_type": "code",
   "execution_count": 15,
   "id": "ea3420b8",
   "metadata": {},
   "outputs": [],
   "source": [
    "my_list = [\"Data\", 4j, 7, 3.0, True, (\"a\", \"b\"), {\"a\":5, \"b\":2}, [\"c\", \"d\"], {1,2,3}, 10]"
   ]
  },
  {
   "cell_type": "code",
   "execution_count": 56,
   "id": "27179f04",
   "metadata": {},
   "outputs": [
    {
     "name": "stdout",
     "output_type": "stream",
     "text": [
      "The list item is Data and it's data type is str\n",
      "The list item is 4j and it's data type is complex\n",
      "The list item is 7 and it's data type is int\n",
      "The list item is 3.0 and it's data type is float\n",
      "The list item is True and it's data type is bool\n",
      "The list item is ('a', 'b') and it's data type is tuple\n",
      "The list item is {'a': 5, 'b': 2} and it's data type is dict\n",
      "The list item is ['c', 'd'] and it's data type is list\n",
      "The list item is {1, 2, 3} and it's data type is set\n",
      "The list item is 10 and it's data type is int\n"
     ]
    }
   ],
   "source": [
    "for i in my_list:    \n",
    "    print(\"The list item is\", i, \"and it's data type is\", type(i).__name__)"
   ]
  },
  {
   "cell_type": "code",
   "execution_count": 36,
   "id": "f9947b19",
   "metadata": {},
   "outputs": [
    {
     "name": "stdout",
     "output_type": "stream",
     "text": [
      "float\n"
     ]
    }
   ],
   "source": [
    "# Q5. Using a while loop, verify if the number A is purely divisible by number B and if so then how many\n",
    "# times it can be divisible."
   ]
  },
  {
   "cell_type": "code",
   "execution_count": 65,
   "id": "773c1c1e",
   "metadata": {},
   "outputs": [
    {
     "name": "stdout",
     "output_type": "stream",
     "text": [
      "Kindly enter the value of a: 2\n",
      "Kindly enter the value of b: 4\n",
      "The number a can be divided by number b: 0\n"
     ]
    }
   ],
   "source": [
    "a = int(input(\"Kindly enter the value of a: \"))\n",
    "b = int(input(\"Kindly enter the value of b: \"))\n",
    "\n",
    "count = 0 \n",
    "\n",
    "while a>=b:\n",
    "    if a%b ==0:\n",
    "        a = a/b\n",
    "        count+=1\n",
    "    else:\n",
    "        break\n",
    "        \n",
    "print(\"The number a can be divided by number b:\", count)"
   ]
  },
  {
   "cell_type": "code",
   "execution_count": 66,
   "id": "b9ca9584",
   "metadata": {},
   "outputs": [],
   "source": [
    "# Q6. Create a list containing 25 int type data. Using for loop and if-else condition print if the element is\n",
    "# divisible by 3 or not."
   ]
  },
  {
   "cell_type": "code",
   "execution_count": 70,
   "id": "1211bddb",
   "metadata": {},
   "outputs": [
    {
     "name": "stdout",
     "output_type": "stream",
     "text": [
      "The number 98 is not divisible by 3\n",
      "The number 34 is not divisible by 3\n",
      "The number 57 is divisible by 3\n",
      "The number 89 is not divisible by 3\n",
      "The number 37 is not divisible by 3\n",
      "The number 9 is divisible by 3\n",
      "The number 86 is not divisible by 3\n",
      "The number 9 is divisible by 3\n",
      "The number 96 is divisible by 3\n",
      "The number 35 is not divisible by 3\n",
      "The number 43 is not divisible by 3\n",
      "The number 14 is not divisible by 3\n",
      "The number 91 is not divisible by 3\n",
      "The number 62 is not divisible by 3\n",
      "The number 9 is divisible by 3\n",
      "The number 38 is not divisible by 3\n",
      "The number 17 is not divisible by 3\n",
      "The number 95 is not divisible by 3\n",
      "The number 33 is divisible by 3\n",
      "The number 75 is divisible by 3\n",
      "The number 38 is not divisible by 3\n",
      "The number 55 is not divisible by 3\n",
      "The number 39 is divisible by 3\n",
      "The number 13 is not divisible by 3\n",
      "The number 9 is divisible by 3\n"
     ]
    }
   ],
   "source": [
    "int_list = [98, 34, 57, 89, 37,  9, 86,  9, 96, 35, 43, 14, 91, 62,  9, 38, 17,\n",
    "       95, 33, 75, 38, 55, 39, 13,  9]\n",
    "\n",
    "for i in int_list:\n",
    "    if i%3==0:\n",
    "        print(\"The number\", i, \"is divisible by 3\")\n",
    "    else:\n",
    "        print(\"The number\", i, \"is not divisible by 3\")"
   ]
  },
  {
   "cell_type": "code",
   "execution_count": null,
   "id": "ad5476df",
   "metadata": {},
   "outputs": [],
   "source": [
    "# Q7. What do you understand about mutable and immutable data types? Give examples for both showing\n",
    "# this property."
   ]
  },
  {
   "cell_type": "markdown",
   "id": "1f413144",
   "metadata": {},
   "source": [
    "Immutable data types are those whose values cannot be changed after they are created. Whenever you perform an operation that appears to modify an immutable object, you are actually creating a new object with the modified value. Examples of immutable data types in Python include\n",
    "1) Numbers(int, float, complex) \n",
    "2) Tuples \n",
    "3) strings\n",
    "\n",
    "On the other hand, mutable data types allow modifications to their values after they are created. This means you can change the internal state of the object without creating a new object. Examples of mutable data types in Python include:\n",
    "1) Lists\n",
    "2) Sets\n",
    "3) Dictionaries"
   ]
  }
 ],
 "metadata": {
  "kernelspec": {
   "display_name": "Python 3 (ipykernel)",
   "language": "python",
   "name": "python3"
  },
  "language_info": {
   "codemirror_mode": {
    "name": "ipython",
    "version": 3
   },
   "file_extension": ".py",
   "mimetype": "text/x-python",
   "name": "python",
   "nbconvert_exporter": "python",
   "pygments_lexer": "ipython3",
   "version": "3.10.9"
  }
 },
 "nbformat": 4,
 "nbformat_minor": 5
}
