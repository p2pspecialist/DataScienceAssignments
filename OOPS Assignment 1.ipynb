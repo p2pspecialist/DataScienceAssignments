{
 "cells": [
  {
   "cell_type": "markdown",
   "id": "8b6c8289",
   "metadata": {},
   "source": [
    "Q1. Explain Class and Object with respect to Object-Oriented Programming. Give a suitable example."
   ]
  },
  {
   "cell_type": "code",
   "execution_count": 1,
   "id": "2604a804",
   "metadata": {},
   "outputs": [
    {
     "name": "stdout",
     "output_type": "stream",
     "text": [
      "Toyota\n",
      "Civic\n",
      "30\n",
      "20\n"
     ]
    }
   ],
   "source": [
    "''' In object-oriented programming (OOP), a class is a blueprint or a template that defines the structure and behavior of objects. \n",
    "It serves as a blueprint for creating objects, which are instances of the class. \n",
    "A class defines the attributes (data) and methods (functions) that the objects of that class will have. \n",
    "Attributes represent the state or characteristics of an object, while methods represent the behavior or actions that \n",
    "the object can perform.\n",
    "\n",
    "An object, on the other hand, is an instance of a class. It is a specific realization of the class, \n",
    "created from the class blueprint, and has its own unique state and behavior. \n",
    "Objects are created based on the class, and they can interact with each other by invoking methods and accessing \n",
    "attributes defined in their class.'''\n",
    "\n",
    "# Example: Creating a class 'Car' to represent cars\n",
    "class Car:\n",
    "    def __init__(self, make, model, year):\n",
    "        self.make = make\n",
    "        self.model = model\n",
    "        self.year = year\n",
    "        self.speed = 0\n",
    "\n",
    "    def accelerate(self, mph):\n",
    "        self.speed += mph\n",
    "\n",
    "    def brake(self, mph):\n",
    "        self.speed -= mph\n",
    "\n",
    "    def get_speed(self):\n",
    "        return self.speed\n",
    "\n",
    "# Creating objects (instances) of the 'Car' class\n",
    "car1 = Car(\"Toyota\", \"Camry\", 2022)\n",
    "car2 = Car(\"Honda\", \"Civic\", 2021)\n",
    "\n",
    "# Accessing attributes of objects\n",
    "print(car1.make)   # Output: Toyota\n",
    "print(car2.model)  # Output: Civic\n",
    "\n",
    "# Invoking methods on objects\n",
    "car1.accelerate(30)\n",
    "print(car1.get_speed())  # Output: 30\n",
    "\n",
    "car2.accelerate(20)\n",
    "print(car2.get_speed())  # Output: 20\n"
   ]
  },
  {
   "cell_type": "markdown",
   "id": "3c782dad",
   "metadata": {},
   "source": [
    "Q2. Name the four pillars of OOPs."
   ]
  },
  {
   "cell_type": "code",
   "execution_count": 2,
   "id": "2d106971",
   "metadata": {},
   "outputs": [
    {
     "data": {
      "text/plain": [
       "'\\nThe four pillars of Object-Oriented Programming (OOP) are:\\n\\nEncapsulation: Encapsulation is the process of bundling data (attributes) and methods (functions) that operate on the data within a single unit called a class. \\nThe internal details of the class are hidden from the outside, and access to the data and methods is controlled through interfaces (public methods). \\nThis helps in achieving data abstraction and protection, preventing unauthorized access to the class\\'s internal state.\\n\\nAbstraction: Abstraction allows the creation of simplified representations of complex real-world objects or processes. \\nIt involves showing only relevant information to the outside world while hiding unnecessary details. \\nAbstraction is achieved through abstract classes and interfaces, allowing programmers to define the structure \\nand behavior of an object without providing implementation details.\\n\\nInheritance: Inheritance is a mechanism that allows a class (subclass or derived class) to inherit properties and behaviors \\nfrom another class (superclass or base class). The subclass can extend and override the attributes and methods of the superclass, \\npromoting code reuse and making the code more modular and maintainable. Inheritance creates an \"is-a\" relationship, \\nwhere a subclass is a specific type of the superclass.\\n\\nPolymorphism: Polymorphism allows objects to be treated as instances of their parent class, even when they are actually instances of their child class. \\nIt refers to the ability of different classes to be treated as objects of a common superclass. \\nPolymorphism is achieved through method overriding and method overloading. \\nMethod overriding allows a subclass to provide a specific implementation for a method defined in its superclass, while method overloading allows \\nmultiple methods with the same name but different parameter lists. Polymorphism enables code to be more flexible and adaptable to different \\ndata types and class hierarchies.\\n\\nTogether, these four pillars form the foundation of Object-Oriented Programming, providing principles and techniques \\nto design and implement software systems in a modular, reusable, and maintainable way.\\n\\n'"
      ]
     },
     "execution_count": 2,
     "metadata": {},
     "output_type": "execute_result"
    }
   ],
   "source": [
    "'''\n",
    "The four pillars of Object-Oriented Programming (OOP) are:\n",
    "\n",
    "Encapsulation: Encapsulation is the process of bundling data (attributes) and methods (functions) that operate on the data within a single unit called a class. \n",
    "The internal details of the class are hidden from the outside, and access to the data and methods is controlled through interfaces (public methods). \n",
    "This helps in achieving data abstraction and protection, preventing unauthorized access to the class's internal state.\n",
    "\n",
    "Abstraction: Abstraction allows the creation of simplified representations of complex real-world objects or processes. \n",
    "It involves showing only relevant information to the outside world while hiding unnecessary details. \n",
    "Abstraction is achieved through abstract classes and interfaces, allowing programmers to define the structure \n",
    "and behavior of an object without providing implementation details.\n",
    "\n",
    "Inheritance: Inheritance is a mechanism that allows a class (subclass or derived class) to inherit properties and behaviors \n",
    "from another class (superclass or base class). The subclass can extend and override the attributes and methods of the superclass, \n",
    "promoting code reuse and making the code more modular and maintainable. Inheritance creates an \"is-a\" relationship, \n",
    "where a subclass is a specific type of the superclass.\n",
    "\n",
    "Polymorphism: Polymorphism allows objects to be treated as instances of their parent class, even when they are actually instances of their child class. \n",
    "It refers to the ability of different classes to be treated as objects of a common superclass. \n",
    "Polymorphism is achieved through method overriding and method overloading. \n",
    "Method overriding allows a subclass to provide a specific implementation for a method defined in its superclass, while method overloading allows \n",
    "multiple methods with the same name but different parameter lists. Polymorphism enables code to be more flexible and adaptable to different \n",
    "data types and class hierarchies.\n",
    "\n",
    "Together, these four pillars form the foundation of Object-Oriented Programming, providing principles and techniques \n",
    "to design and implement software systems in a modular, reusable, and maintainable way.\n",
    "\n",
    "'''"
   ]
  },
  {
   "cell_type": "markdown",
   "id": "1244e436",
   "metadata": {},
   "source": [
    "Q3. Explain why the __init__() function is used. Give a suitable example."
   ]
  },
  {
   "cell_type": "code",
   "execution_count": 3,
   "id": "13095d77",
   "metadata": {},
   "outputs": [
    {
     "name": "stdout",
     "output_type": "stream",
     "text": [
      "Alice\n",
      "30\n",
      "Hi, my name is Alice, and I am 30 years old.\n"
     ]
    }
   ],
   "source": [
    "'''\n",
    "The __init__() function in Python is a special method (also known as a constructor) that is automatically called when an object is created from a class. \n",
    "It is used to initialize the attributes of the object with the provided values or with default values. \n",
    "The primary purpose of the __init__() function is to set up the initial state of the object and prepare it for use.\n",
    "\n",
    "When you create an instance of a class (an object), Python automatically calls the __init__() method, \n",
    "passing the object itself as the first argument (commonly named self) and any additional arguments that you provide \n",
    "when creating the object.\n",
    "'''\n",
    "\n",
    "class Person:\n",
    "    def __init__(self, name, age):\n",
    "        self.name = name\n",
    "        self.age = age\n",
    "\n",
    "    def introduce(self):\n",
    "        return f\"Hi, my name is {self.name}, and I am {self.age} years old.\"\n",
    "\n",
    "# Creating an object of the 'Person' class\n",
    "person1 = Person(\"Alice\", 30)\n",
    "\n",
    "# Accessing attributes of the object\n",
    "print(person1.name)  # Output: Alice\n",
    "print(person1.age)   # Output: 30\n",
    "\n",
    "# Calling the 'introduce()' method on the object\n",
    "print(person1.introduce())  # Output: Hi, my name is Alice, and I am 30 years old.\n"
   ]
  },
  {
   "cell_type": "markdown",
   "id": "372dd2c1",
   "metadata": {},
   "source": [
    "Q4. Why self is used in OOPs?"
   ]
  },
  {
   "cell_type": "code",
   "execution_count": 4,
   "id": "f8528439",
   "metadata": {},
   "outputs": [
    {
     "data": {
      "text/plain": [
       "\"\\nIn Object-Oriented Programming (OOP), self is a convention used as the first parameter of instance methods in Python. \\nIt is not a reserved keyword but rather a customary way to refer to the instance of the class itself. \\nThe self parameter helps in binding instance-specific data and methods to the object.\\n\\nWhen you call an instance method on an object, Python automatically passes the object itself as the first argument to the method.\\nBy convention, this first parameter is named self. Using self, the method can access and manipulate the attributes and methods \\nspecific to that particular instance (object) of the class.\\n\\nIn other words, self is used to distinguish between instance-specific attributes and methods and class-level attributes \\nand methods. Without self, a method would not know which instance's attributes to operate on, and it would lead to ambiguity \\nand incorrect behavior.\\n\\n\""
      ]
     },
     "execution_count": 4,
     "metadata": {},
     "output_type": "execute_result"
    }
   ],
   "source": [
    "'''\n",
    "In Object-Oriented Programming (OOP), self is a convention used as the first parameter of instance methods in Python. \n",
    "It is not a reserved keyword but rather a customary way to refer to the instance of the class itself. \n",
    "The self parameter helps in binding instance-specific data and methods to the object.\n",
    "\n",
    "When you call an instance method on an object, Python automatically passes the object itself as the first argument to the method.\n",
    "By convention, this first parameter is named self. Using self, the method can access and manipulate the attributes and methods \n",
    "specific to that particular instance (object) of the class.\n",
    "\n",
    "In other words, self is used to distinguish between instance-specific attributes and methods and class-level attributes \n",
    "and methods. Without self, a method would not know which instance's attributes to operate on, and it would lead to ambiguity \n",
    "and incorrect behavior.\n",
    "\n",
    "'''"
   ]
  },
  {
   "cell_type": "markdown",
   "id": "c3eea039",
   "metadata": {},
   "source": [
    "Q5. What is inheritance? Give an example for each type of inheritance."
   ]
  },
  {
   "cell_type": "code",
   "execution_count": 5,
   "id": "458748f4",
   "metadata": {},
   "outputs": [
    {
     "name": "stdout",
     "output_type": "stream",
     "text": [
      "Woof\n",
      "Hello, I am a person.\n",
      "I love coding.\n",
      "Woof\n",
      "I am guarding.\n"
     ]
    }
   ],
   "source": [
    "'''\n",
    "Inheritance is a fundamental concept in object-oriented programming (OOP) that allows a class (subclass or derived class) \n",
    "to inherit properties and behaviors from another class (superclass or base class). The subclass can extend and override \n",
    "the attributes and methods of the superclass, promoting code reuse and making the code more modular and maintainable. \n",
    "Inheritance creates an \"is-a\" relationship, where a subclass is a specific type of the superclass.\n",
    "\n",
    "There are three main types of inheritance:\n",
    "\n",
    "Single Inheritance: In single inheritance, a subclass inherits from a single superclass. \n",
    "This is the most common type of inheritance.\n",
    "'''\n",
    "\n",
    "class Animal:\n",
    "    def speak(self):\n",
    "        return \"Generic animal sound\"\n",
    "\n",
    "class Dog(Animal):\n",
    "    def speak(self):\n",
    "        return \"Woof\"\n",
    "\n",
    "dog = Dog()\n",
    "print(dog.speak())  # Output: Woof\n",
    "\n",
    "\n",
    "'''\n",
    "Multiple Inheritance: In multiple inheritance, a subclass inherits from two or more superclasses. \n",
    "This allows the subclass to combine attributes and behaviors from multiple classes.\n",
    "Example of Multiple Inheritance:\n",
    "'''\n",
    "\n",
    "class Person:\n",
    "    def greet(self):\n",
    "        return \"Hello, I am a person.\"\n",
    "\n",
    "class Programmer:\n",
    "    def code(self):\n",
    "        return \"I love coding.\"\n",
    "\n",
    "class CodingEnthusiast(Person, Programmer):\n",
    "    pass\n",
    "\n",
    "coder = CodingEnthusiast()\n",
    "print(coder.greet())  # Output: Hello, I am a person.\n",
    "print(coder.code())   # Output: I love coding.\n",
    "\n",
    "\n",
    "'''\n",
    "Multilevel Inheritance: In multilevel inheritance, a subclass inherits from another subclass, forming a chain of inheritance.\n",
    "Example of Multilevel Inheritance:\n",
    "'''\n",
    "\n",
    "class Animal:\n",
    "    def speak(self):\n",
    "        return \"Generic animal sound\"\n",
    "\n",
    "class Dog(Animal):\n",
    "    def speak(self):\n",
    "        return \"Woof\"\n",
    "\n",
    "class GuardDog(Dog):\n",
    "    def guard(self):\n",
    "        return \"I am guarding.\"\n",
    "\n",
    "guard_dog = GuardDog()\n",
    "print(guard_dog.speak())  # Output: Woof\n",
    "print(guard_dog.guard())  # Output: I am guarding.\n"
   ]
  },
  {
   "cell_type": "code",
   "execution_count": null,
   "id": "71ef0cdb",
   "metadata": {},
   "outputs": [],
   "source": []
  }
 ],
 "metadata": {
  "kernelspec": {
   "display_name": "Python 3 (ipykernel)",
   "language": "python",
   "name": "python3"
  },
  "language_info": {
   "codemirror_mode": {
    "name": "ipython",
    "version": 3
   },
   "file_extension": ".py",
   "mimetype": "text/x-python",
   "name": "python",
   "nbconvert_exporter": "python",
   "pygments_lexer": "ipython3",
   "version": "3.10.9"
  }
 },
 "nbformat": 4,
 "nbformat_minor": 5
}
