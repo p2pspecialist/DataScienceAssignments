{
 "cells": [
  {
   "cell_type": "markdown",
   "id": "73f31798",
   "metadata": {},
   "source": [
    "Q1, Create a vehicle class with an init method having instance variables as name_of_vehicle, max_speed\n",
    "and average_of_vehicle."
   ]
  },
  {
   "cell_type": "code",
   "execution_count": 1,
   "id": "089f16b0",
   "metadata": {},
   "outputs": [],
   "source": [
    "class Vehicle:\n",
    "    \n",
    "    def __init__(self, name_of_vehicle, max_speed, average_of_vehicle):\n",
    "        self.name_of_vehicle = name_of_vehicle\n",
    "        self.max_speed = max_speed\n",
    "        self.average_of_vehicle = average_of_vehicle\n",
    "\n",
    "    def __str__(self):\n",
    "        return f\"{self.name_of_vehicle}: Max Speed - {self.max_speed} mph, Average Speed - {self.average_of_vehicle} mph\"\n"
   ]
  },
  {
   "cell_type": "markdown",
   "id": "5d7bba06",
   "metadata": {},
   "source": [
    "Q2. Create a child class car from the vehicle class created in Que 1, which will inherit the vehicle class.\n",
    "Create a method named seating_capacity which takes capacity as an argument and returns the name of\n",
    "the vehicle and its seating capacity."
   ]
  },
  {
   "cell_type": "code",
   "execution_count": 2,
   "id": "9cd20535",
   "metadata": {},
   "outputs": [],
   "source": [
    "class Car(Vehicle):\n",
    "    def __init__(self, name_of_vehicle, max_speed, average_of_vehicle):\n",
    "        super().__init__(name_of_vehicle, max_speed, average_of_vehicle)\n",
    "\n",
    "    def seating_capacity(self, capacity):\n",
    "        return f\"{self.name_of_vehicle} has a seating capacity of {capacity} passengers.\"\n"
   ]
  },
  {
   "cell_type": "markdown",
   "id": "46fca645",
   "metadata": {},
   "source": [
    "Q3. What is multiple inheritance? Write a python code to demonstrate multiple inheritance."
   ]
  },
  {
   "cell_type": "code",
   "execution_count": 3,
   "id": "32c4be60",
   "metadata": {},
   "outputs": [
    {
     "name": "stdout",
     "output_type": "stream",
     "text": [
      "Name: John Doe, Age: 35, Employee ID: 1234, Department: HR, Level: Senior\n"
     ]
    }
   ],
   "source": [
    "''' Multiple inheritance is a feature in object-oriented programming where a class can inherit attributes and methods \n",
    "from more than one base class. In Python, a class can inherit from multiple parent classes by listing them in parentheses \n",
    "after the class name in the class definition.'''\n",
    "\n",
    "class Person:\n",
    "    def __init__(self, name, age):\n",
    "        self.name = name\n",
    "        self.age = age\n",
    "\n",
    "    def get_details(self):\n",
    "        return f\"Name: {self.name}, Age: {self.age}\"\n",
    "\n",
    "class Employee:\n",
    "    def __init__(self, emp_id, department):\n",
    "        self.emp_id = emp_id\n",
    "        self.department = department\n",
    "\n",
    "    def get_employee_details(self):\n",
    "        return f\"Employee ID: {self.emp_id}, Department: {self.department}\"\n",
    "\n",
    "class Manager(Person, Employee):\n",
    "    def __init__(self, name, age, emp_id, department, level):\n",
    "        # Using super() to call __init__ of both parent classes\n",
    "        super().__init__(name, age)\n",
    "        Employee.__init__(self, emp_id, department)\n",
    "        self.level = level\n",
    "\n",
    "    def get_details(self):\n",
    "        person_details = super().get_details()\n",
    "        employee_details = Employee.get_employee_details(self)\n",
    "        return f\"{person_details}, {employee_details}, Level: {self.level}\"\n",
    "\n",
    "# Creating an instance of the Manager class\n",
    "manager = Manager(\"John Doe\", 35, \"1234\", \"HR\", \"Senior\")\n",
    "\n",
    "# Accessing attributes and methods from both parent classes\n",
    "print(manager.get_details())\n",
    "# Output: Name: John Doe, Age: 35, Employee ID: 1234, Department: HR, Level: Senior\n"
   ]
  },
  {
   "cell_type": "markdown",
   "id": "b42035fb",
   "metadata": {},
   "source": [
    "Q4. What are getter and setter in python? Create a class and create a getter and a setter method in this\n",
    "class."
   ]
  },
  {
   "cell_type": "code",
   "execution_count": 4,
   "id": "f3026101",
   "metadata": {},
   "outputs": [
    {
     "name": "stdout",
     "output_type": "stream",
     "text": [
      "Alice\n",
      "Bob\n"
     ]
    }
   ],
   "source": [
    "'''In Python, getters and setters are methods used to access and modify the attributes (variables) of a class. \n",
    "They are used to provide controlled access to the class's attributes and allow you to enforce validation or \n",
    "perform additional actions when getting or setting the attribute values.\n",
    "\n",
    "Getter method (also known as accessor method): It is used to retrieve the value of an attribute.\n",
    "\n",
    "Setter method (also known as mutator method): It is used to set or modify the value of an attribute.'''\n",
    "\n",
    "class Student:\n",
    "    def __init__(self, name):\n",
    "        # Private attribute starts with an underscore\n",
    "        self._name = name\n",
    "\n",
    "    # Getter method for name\n",
    "    def get_name(self):\n",
    "        return self._name\n",
    "\n",
    "    # Setter method for name\n",
    "    def set_name(self, name):\n",
    "        # Perform validation or additional actions here if needed\n",
    "        self._name = name\n",
    "\n",
    "# Creating an instance of the Student class\n",
    "student1 = Student(\"Alice\")\n",
    "\n",
    "# Using the getter method to retrieve the value of the 'name' attribute\n",
    "print(student1.get_name())  # Output: Alice\n",
    "\n",
    "# Using the setter method to modify the 'name' attribute\n",
    "student1.set_name(\"Bob\")\n",
    "\n",
    "# Using the getter method again to retrieve the updated value of the 'name' attribute\n",
    "print(student1.get_name())  # Output: Bob\n"
   ]
  },
  {
   "cell_type": "markdown",
   "id": "fae8228c",
   "metadata": {},
   "source": [
    "Q5.What is method overriding in python? Write a python code to demonstrate method overriding."
   ]
  },
  {
   "cell_type": "code",
   "execution_count": 5,
   "id": "205b80ef",
   "metadata": {},
   "outputs": [
    {
     "name": "stdout",
     "output_type": "stream",
     "text": [
      "Meow\n",
      "Woof\n"
     ]
    }
   ],
   "source": [
    "''' Method overriding in Python is a concept in object-oriented programming where a subclass provides a specific implementation \n",
    "of a method that is already defined in its superclass. When a method is overridden in the subclass, the implementation \n",
    "in the superclass is replaced with the implementation in the subclass for objects of that subclass.'''\n",
    "\n",
    "class Animal:\n",
    "    def make_sound(self):\n",
    "        return \"Generic animal sound\"\n",
    "\n",
    "class Cat(Animal):\n",
    "    def make_sound(self):\n",
    "        return \"Meow\"\n",
    "\n",
    "class Dog(Animal):\n",
    "    def make_sound(self):\n",
    "        return \"Woof\"\n",
    "\n",
    "# Creating instances of the subclasses\n",
    "cat = Cat()\n",
    "dog = Dog()\n",
    "\n",
    "# Calling the overridden method on each object\n",
    "print(cat.make_sound())  # Output: Meow\n",
    "print(dog.make_sound())  # Output: Woof\n"
   ]
  },
  {
   "cell_type": "code",
   "execution_count": null,
   "id": "a9c8ae60",
   "metadata": {},
   "outputs": [],
   "source": []
  }
 ],
 "metadata": {
  "kernelspec": {
   "display_name": "Python 3 (ipykernel)",
   "language": "python",
   "name": "python3"
  },
  "language_info": {
   "codemirror_mode": {
    "name": "ipython",
    "version": 3
   },
   "file_extension": ".py",
   "mimetype": "text/x-python",
   "name": "python",
   "nbconvert_exporter": "python",
   "pygments_lexer": "ipython3",
   "version": "3.10.9"
  }
 },
 "nbformat": 4,
 "nbformat_minor": 5
}
