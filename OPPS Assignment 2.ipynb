{
 "cells": [
  {
   "cell_type": "markdown",
   "id": "995401b5",
   "metadata": {},
   "source": [
    "Q1. What is Abstraction in OOps? Explain with an example."
   ]
  },
  {
   "cell_type": "code",
   "execution_count": null,
   "id": "f2aef205",
   "metadata": {},
   "outputs": [],
   "source": [
    "'''\n",
    "In object-oriented programming (OOP), abstraction is a fundamental concept that focuses on simplifying complex systems by breaking \n",
    "them down into smaller, more manageable components. It allows programmers to hide the implementation details of an object and \n",
    "only expose the relevant features or behaviors that are necessary for other objects to interact with it. \n",
    "Abstraction provides a higher level of understanding and reduces complexity, making it easier to work with objects in a system.\n",
    "\n",
    "One of the key mechanisms used for abstraction in OOP is through the use of abstract classes and interfaces. \n",
    "These constructs define the structure and common behaviors that derived classes must implement, without specifying the exact \n",
    "details of how those behaviors are carried out.\n",
    "\n",
    "\n",
    "Let's illustrate abstraction with an example:\n",
    "\n",
    "Suppose we are developing a program to model different shapes in a geometry application. We want to represent various shapes \n",
    "like circles, squares, and triangles. To achieve abstraction, we can create an abstract class called \"Shape\" that defines \n",
    "the common properties and methods for all shapes:\n",
    "'''\n",
    "\n"
   ]
  }
 ],
 "metadata": {
  "kernelspec": {
   "display_name": "Python 3 (ipykernel)",
   "language": "python",
   "name": "python3"
  },
  "language_info": {
   "codemirror_mode": {
    "name": "ipython",
    "version": 3
   },
   "file_extension": ".py",
   "mimetype": "text/x-python",
   "name": "python",
   "nbconvert_exporter": "python",
   "pygments_lexer": "ipython3",
   "version": "3.10.9"
  }
 },
 "nbformat": 4,
 "nbformat_minor": 5
}
